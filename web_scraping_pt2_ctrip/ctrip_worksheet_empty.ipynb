{
 "cells": [
  {
   "cell_type": "markdown",
   "metadata": {},
   "source": [
    "# Web Scraping Pt. 2: Ctrip!\n",
    "\n",
    "In this workshop you will be walked through understanding the tools you can use to clean up your nested JSON data with Pandas.\n",
    "\n",
    "Start with importing the libraries below. Specifically, ```json_normalize``` will be useful when we are dealing with nested JSON data. Pandas cannot represent nested JSON data and this function will help us work around it. "
   ]
  },
  {
   "cell_type": "code",
   "execution_count": null,
   "metadata": {
    "collapsed": true
   },
   "outputs": [],
   "source": [
    "import pandas as pd\n",
    "import json\n",
    "from pandas.io.json import json_normalize"
   ]
  },
  {
   "cell_type": "markdown",
   "metadata": {},
   "source": [
    "You can save your data that you got from running ```ctrip.py``` into CSV if you wish, but I found JSON easier to work with. Below is the command to open the file. 'r' stands for read-only."
   ]
  },
  {
   "cell_type": "code",
   "execution_count": null,
   "metadata": {
    "collapsed": true
   },
   "outputs": [],
   "source": [
    "infile = open('all_data.json', 'r')\n",
    "json_data = json.load(infile)"
   ]
  },
  {
   "cell_type": "markdown",
   "metadata": {},
   "source": [
    "Since we are not exactly sure about the structure of our JSON data, let's make sure that all column names print out."
   ]
  },
  {
   "cell_type": "code",
   "execution_count": null,
   "metadata": {},
   "outputs": [],
   "source": [
    "pd.set_option('display.max_columns', 500)\n",
    "\n",
    "df = json_normalize(data = json_data)\n",
    "\n",
    "df"
   ]
  },
  {
   "cell_type": "markdown",
   "metadata": {},
   "source": [
    "The price details are under the column ```['flightIntlPolicys']```. The way I figured this out was by printing out the first item in the raw JSON file.\n",
    "\n",
    "With the function below you will get all flight options, even those that are multiply present because two agencies are selling them for different prices.\n",
    "\n",
    "The general structure for using json_normalize is as follows. You will have to write the column that you want to expand for ```record_path```. Sometimes it needs a bit of playing around such as writing [0] after the column name. When you run the code, it may prompt to set errors = 'ignore'. "
   ]
  },
  {
   "cell_type": "code",
   "execution_count": null,
   "metadata": {},
   "outputs": [],
   "source": [
    "df_flight = json_normalize(data = json_data, \n",
    "                           record_path = ['flightIntlPolicys'][0],\n",
    "                           meta = ['airlineName'])\n",
    "\n",
    "df_flight"
   ]
  },
  {
   "cell_type": "markdown",
   "metadata": {},
   "source": [
    "This one will only show one flight priced by different agencies for the 0th index."
   ]
  },
  {
   "cell_type": "code",
   "execution_count": null,
   "metadata": {},
   "outputs": [],
   "source": [
    "df_flight_by_index = json_normalize(data = df['flightIntlPolicys'][0])\n",
    "\n",
    "df_flight_by_index"
   ]
  },
  {
   "cell_type": "code",
   "execution_count": null,
   "metadata": {},
   "outputs": [],
   "source": [
    "df_flight_by_index = json_normalize(data = df['flightIntlPolicys'][11])\n",
    "\n",
    "df_flight_by_index"
   ]
  },
  {
   "cell_type": "markdown",
   "metadata": {},
   "source": [
    "## Exercise 1： PrinceInfos\n",
    "\n",
    "Try to do the same and get all the ['PriceInfos'] into a dataframe below. \n",
    "\n",
    "Look back at the previous data frames. Which one included PriceInfos? Fill out the record_path. Try experimenting how to represent a nest within an already nested column. For meta, write the column from the parent dataframe that you want to append to this dataframe. In summary,\n",
    "\n",
    "1. pass on the JSON object to data\n",
    "2. write the path along which you want to expand\n",
    "3. write the column names in a list that you want to append to the dataframe"
   ]
  },
  {
   "cell_type": "code",
   "execution_count": null,
   "metadata": {
    "scrolled": true
   },
   "outputs": [],
   "source": []
  },
  {
   "cell_type": "markdown",
   "metadata": {},
   "source": [
    "## Exercise 2: \tBaggageInfoList\n",
    "\n",
    "Now, try to practice the same with BaggageInfoList."
   ]
  },
  {
   "cell_type": "code",
   "execution_count": null,
   "metadata": {},
   "outputs": [],
   "source": []
  },
  {
   "cell_type": "markdown",
   "metadata": {},
   "source": [
    "## Exercise 3: Make your custom Dataframe\n",
    "\n",
    "Now this is a bit harder. Create a dataframe that has the following columns:\n",
    "\n",
    "1. flight number(s)\n",
    "2. airline(s)\n",
    "3. departure time\n",
    "4. arrival time\n",
    "5. price after tax\n",
    "6. tax\n",
    "7. planCategoryName\n",
    "\n",
    "Consult the previous [workshop](https://noelkonagai.github.io/Workshops/) on Pandas Dataframe here to learn about some techniques. You may want to delete columns using [this](https://stackoverflow.com/questions/13411544/delete-column-from-pandas-dataframe-using-python-del)."
   ]
  },
  {
   "cell_type": "code",
   "execution_count": null,
   "metadata": {
    "collapsed": true
   },
   "outputs": [],
   "source": []
  }
 ],
 "metadata": {
  "kernelspec": {
   "display_name": "Python 3",
   "language": "python",
   "name": "python3"
  },
  "language_info": {
   "codemirror_mode": {
    "name": "ipython",
    "version": 3
   },
   "file_extension": ".py",
   "mimetype": "text/x-python",
   "name": "python",
   "nbconvert_exporter": "python",
   "pygments_lexer": "ipython3",
   "version": "3.6.1"
  }
 },
 "nbformat": 4,
 "nbformat_minor": 2
}
